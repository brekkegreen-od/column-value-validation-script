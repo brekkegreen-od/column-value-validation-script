{
 "cells": [
  {
   "cell_type": "markdown",
   "id": "33174274",
   "metadata": {},
   "source": [
    "# Discovery File Validation Notebook\n",
    "### Description: \n",
    "This notebook is intended to automate validation for discovery files\n",
    "and provide questions/examples for the client about the provided data files"
   ]
  },
  {
   "cell_type": "code",
   "execution_count": 1,
   "id": "0e4544b4",
   "metadata": {},
   "outputs": [],
   "source": [
    "import os\n",
    "import numpy as np\n",
    "import pandas as pd\n"
   ]
  },
  {
   "cell_type": "markdown",
   "id": "17f107e7",
   "metadata": {},
   "source": [
    "## Read in files from data directory and create Dataframes for each file"
   ]
  },
  {
   "cell_type": "code",
   "execution_count": 5,
   "id": "d9256ef4",
   "metadata": {},
   "outputs": [
    {
     "name": "stdout",
     "output_type": "stream",
     "text": [
      "companies - <class 'pandas.core.frame.DataFrame'>\n",
      "customers - <class 'pandas.core.frame.DataFrame'>\n",
      "drivers - <class 'pandas.core.frame.DataFrame'>\n",
      "moves - <class 'pandas.core.frame.DataFrame'>\n",
      "orders - <class 'pandas.core.frame.DataFrame'>\n",
      "stops - <class 'pandas.core.frame.DataFrame'>\n",
      "tractors - <class 'pandas.core.frame.DataFrame'>\n",
      "trailers - <class 'pandas.core.frame.DataFrame'>\n"
     ]
    }
   ],
   "source": [
    "file_types = [\n",
    "    'companies',\n",
    "    'customers', \n",
    "    'drivers', \n",
    "    'moves', \n",
    "    'orders', \n",
    "    'stops', \n",
    "    'tractors',\n",
    "    'trailers'\n",
    "    ]\n",
    "\n",
    "data_path = '../data/amx/'\n",
    "\n",
    "files = []\n",
    "data = {}\n",
    "files_received = []\n",
    "for i in os.listdir(data_path):\n",
    "    if os.path.isfile(os.path.join(data_path,i)):\n",
    "        files.append(i)\n",
    "\n",
    "for file in files:\n",
    "    file_type = file.split('-')[0]\n",
    "    data[file_type] = pd.read_csv(data_path + file, sep='\\t')\n",
    "\n",
    "for file in file_types:\n",
    "    try:\n",
    "        data[file]\n",
    "        files_received.append(file)\n",
    "    except KeyError:\n",
    "        print(f'The {file} file is missing from the data folder')\n",
    "\n",
    "for file in files_received:\n",
    "    print(f\"{file} - {type(data[file])}\")"
   ]
  },
  {
   "cell_type": "markdown",
   "id": "0016303f",
   "metadata": {},
   "source": [
    "### Validation each file"
   ]
  },
  {
   "cell_type": "code",
   "execution_count": null,
   "id": "c67a3524",
   "metadata": {},
   "outputs": [],
   "source": []
  }
 ],
 "metadata": {
  "kernelspec": {
   "display_name": "Python 3 (ipykernel)",
   "language": "python",
   "name": "python3"
  },
  "language_info": {
   "codemirror_mode": {
    "name": "ipython",
    "version": 3
   },
   "file_extension": ".py",
   "mimetype": "text/x-python",
   "name": "python",
   "nbconvert_exporter": "python",
   "pygments_lexer": "ipython3",
   "version": "3.9.7"
  }
 },
 "nbformat": 4,
 "nbformat_minor": 5
}
