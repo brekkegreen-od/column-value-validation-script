{
 "cells": [
  {
   "cell_type": "code",
   "execution_count": null,
   "metadata": {},
   "outputs": [],
   "source": [
    "import os\n",
    "import numpy as np\n",
    "import pandas as pd\n"
   ]
  },
  {
   "cell_type": "code",
   "execution_count": null,
   "metadata": {},
   "outputs": [],
   "source": [
    "# WRITE PATH TO DATA DIRECTORY BELOW \n",
    "\n",
    "data_path = '../data/redclassic/'\n",
    "\n",
    "files = []\n",
    "data = {}\n",
    "files_received = []\n",
    "load_files = []\n",
    "driver_files = []\n",
    "\n",
    "try:\n",
    "    for i in os.listdir(data_path):\n",
    "        if os.path.isfile(os.path.join(data_path,i)):\n",
    "            files.append(i)\n",
    "except FileNotFoundError:\n",
    "    print(\"PLEASE MAKE SURE THE DATA PATH LEADS TO THE DATA DIRECTORY WHERE THE DATA FILES ARE LOCATED\\n\")   \n",
    "except NameError:\n",
    "    print(\"PLEASE INSERT A VALID PATH STRING TO THE DATA DIRECTORY\\n\")\n",
    "\n",
    "if '.DS_Store' in files:\n",
    "    files.remove('.DS_Store')\n",
    "for file in files:\n",
    "    data[file] = pd.read_csv(data_path + file, low_memory=False)\n",
    "\n",
    "for file in files:\n",
    "    try:\n",
    "        data[file]\n",
    "        files_received.append(file)\n",
    "        if 'driver' in file.lower():\n",
    "            driver_files.append(file)\n",
    "        else:\n",
    "            load_files.append(file)\n",
    "    except KeyError:\n",
    "        print(f'** The {file} file is missing from the data folder **'.upper())        \n",
    "\n",
    "if len(driver_files) == 1:\n",
    "    print(f\"Received {len(driver_files)} driver file\")\n",
    "else:\n",
    "    print(f\"Received {len(driver_files)} driver files\")\n",
    "    \n",
    "if len(load_files) == 1:\n",
    "    print(f\"Received {len(load_files)} load file\")\n",
    "else:\n",
    "    print(f\"Received {len(load_files)} load files\")\n",
    "\n",
    "if len(files_received) == 0:\n",
    "    print(\"\\n!!! NO FILES RECEIVED !!!\")\n",
    "    \n",
    "for file in files_received:\n",
    "    print(f\"{file} - {type(data[file])}\")"
   ]
  },
  {
   "cell_type": "code",
   "execution_count": null,
   "metadata": {},
   "outputs": [],
   "source": [
    "# Combine all files of similar type to one file\n",
    "load_data_combined_list = [data[file] for file in load_files]\n",
    "    \n",
    "load_data_combined_df = pd.concat(load_data_combined_list, ignore_index=True)\n",
    "\n",
    "print(load_data_combined_df.info())\n",
    "print(load_data_combined_df.head())"
   ]
  },
  {
   "cell_type": "code",
   "execution_count": null,
   "metadata": {},
   "outputs": [],
   "source": [
    "# Run Load Files Checks\n",
    "\n",
    "# LIST THE COLUMNS REQUIRED (NO BLANKS)\n",
    "required_load_columns = []\n",
    "\n",
    "for file in load_files:\n",
    "    df = data[file]\n",
    "    print(df.info())"
   ]
  },
  {
   "cell_type": "code",
   "execution_count": null,
   "metadata": {},
   "outputs": [],
   "source": [
    "# Run Driver Files Checks\n",
    "blanks = {}\n",
    "\n",
    "required_driver_columns = list(data[driver_files[0]].columns.values)\n",
    "\n",
    "# Columns to remove from required list\n",
    "columns_not_required = required_driver_columns[7:]\n",
    "\n",
    "for file in driver_files:\n",
    "    df = data[file]\n",
    "    print(df.info())\n",
    "    \n",
    "#     Find Blanks for required columns\n",
    "    for column in required_driver_columns:\n",
    "        if column in columns_not_required:\n",
    "            pass\n",
    "        else:\n",
    "            column_blanks_df = df[df[column].isnull()]\n",
    "            blanks[column] = column_blanks_df\n",
    "\n",
    "for column in blanks.keys():\n",
    "    if blanks[column].empty == False:\n",
    "        print(blanks[column])\n",
    "    else:\n",
    "        pass"
   ]
  },
  {
   "cell_type": "code",
   "execution_count": null,
   "metadata": {},
   "outputs": [],
   "source": []
  }
 ],
 "metadata": {
  "kernelspec": {
   "display_name": "Python 3 (ipykernel)",
   "language": "python",
   "name": "python3"
  },
  "language_info": {
   "codemirror_mode": {
    "name": "ipython",
    "version": 3
   },
   "file_extension": ".py",
   "mimetype": "text/x-python",
   "name": "python",
   "nbconvert_exporter": "python",
   "pygments_lexer": "ipython3",
   "version": "3.9.10"
  }
 },
 "nbformat": 4,
 "nbformat_minor": 4
}
