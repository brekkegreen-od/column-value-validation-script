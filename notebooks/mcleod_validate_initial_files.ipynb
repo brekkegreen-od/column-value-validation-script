{
 "cells": [
  {
   "cell_type": "markdown",
   "id": "33174274",
   "metadata": {},
   "source": [
    "# Discovery File Validation Notebook\n",
    "### Description: \n",
    "This notebook is intended to automate validation for discovery files\n",
    "and provide questions/examples for the client about the provided data files"
   ]
  },
  {
   "cell_type": "code",
   "execution_count": null,
   "id": "0e4544b4",
   "metadata": {},
   "outputs": [],
   "source": [
    "import os\n",
    "import numpy as np\n",
    "import pandas as pd\n"
   ]
  },
  {
   "cell_type": "markdown",
   "id": "17f107e7",
   "metadata": {},
   "source": [
    "## Read in files from data directory and create Dataframes for each file"
   ]
  },
  {
   "cell_type": "code",
   "execution_count": null,
   "id": "d9256ef4",
   "metadata": {},
   "outputs": [],
   "source": [
    "file_types = [\n",
    "    'companies',\n",
    "    'customers', \n",
    "    'drivers', \n",
    "    'moves', \n",
    "    'orders', \n",
    "    'stops', \n",
    "    'tractors',\n",
    "    'trailers'\n",
    "    ]\n",
    "\n",
    "# WRITE PATH TO DATA DIRECTORY BELOW \n",
    "\n",
    "data_path = '../data/amx/'\n",
    "# data_path = '../data/reedtms/'\n",
    "\n",
    "files = []\n",
    "data = {}\n",
    "files_received = []\n",
    "\n",
    "try:\n",
    "    for i in os.listdir(data_path):\n",
    "        if os.path.isfile(os.path.join(data_path,i)):\n",
    "            files.append(i)\n",
    "except FileNotFoundError:\n",
    "    print(\"PLEASE MAKE SURE THE DATA PATH LEADS TO THE DATA DIRECTORY WHERE THE DATA FILES ARE LOCATED\\n\")   \n",
    "except NameError:\n",
    "    print(\"PLEASE INSERT A VALID PATH STRING TO THE DATA DIRECTORY\\n\")\n",
    "\n",
    "if '.DS_Store' in files:\n",
    "    files.remove('.DS_Store')\n",
    "for file in files:\n",
    "    file_type = file.split('-')[0]\n",
    "    data[file_type] = pd.read_csv(data_path + file, sep='\\t', low_memory=False)\n",
    "\n",
    "for file in file_types:\n",
    "    try:\n",
    "        data[file]\n",
    "        files_received.append(file)\n",
    "    except KeyError:\n",
    "        print(f'** The {file} file is missing from the data folder **'.upper())\n",
    "\n",
    "if len(files_received) == 0:\n",
    "    print(\"\\n!!! NO FILES RECEIVED !!!\")\n",
    "    \n",
    "for file in files_received:\n",
    "    print(f\"{file} - {type(data[file])}\")"
   ]
  },
  {
   "cell_type": "markdown",
   "id": "0016303f",
   "metadata": {},
   "source": [
    "### Validation for each file"
   ]
  },
  {
   "cell_type": "markdown",
   "id": "eadac317",
   "metadata": {},
   "source": [
    "#### Drivers File"
   ]
  },
  {
   "cell_type": "code",
   "execution_count": null,
   "id": "9a35bd4d",
   "metadata": {},
   "outputs": [],
   "source": [
    "driver_df = data['drivers']\n",
    "\n",
    "print(driver_df.info(verbose = True))\n",
    "print(\"\\n\")\n",
    "print(\"TYPE_OF - COUNTS\")\n",
    "print(driver_df['type_of'].value_counts())\n",
    "print(\"\\n\")\n",
    "print('COUNTRY_HOS_RULES - COUNTS')\n",
    "print(driver_df['country_hos_rules'].value_counts())\n",
    "print(\"\\n\")\n",
    "print('GROUP_ID - COUNTS')\n",
    "print(driver_df['group_id'].value_counts())\n",
    "print(\"\\n\")\n",
    "print('DRIVERS WITH ONDUTY HOURS OUTSIDE NORM')\n",
    "avl_onduty_hours_df = driver_df[(driver_df['avl_onduty_hours'] < 0) | (driver_df['avl_onduty_hours'] > 14)]\n",
    "print(avl_onduty_hours_df[['avl_onduty_hours']])\n",
    "print('\\n')\n",
    "print('DRIVERS WITH AVALABLE DRIVER HOURS OUTSIDE NORM')\n",
    "avl_drive_hours_df = driver_df[(driver_df['avl_drive_hours'] < 0) | (driver_df['avl_drive_hours'] > 11)]\n",
    "print(avl_drive_hours_df[['avl_drive_hours']])\n",
    "print('\\n')\n",
    "print(\"TERMINATED DRIVERS WITH TRUE ACTIVE STATUS\")\n",
    "terminated_drivers_df = driver_df[(driver_df['termination_date'] > driver_df['hire_date'])]\n",
    "print(terminated_drivers_df[['is_active', 'termination_date', 'hire_date']].loc[terminated_drivers_df['is_active'] == True])\n",
    "print('\\n')\n",
    "print(\"REHIRED DRIVERS WITH FALSE ACTIVE STATUS\")\n",
    "rehired_drivers_df = driver_df[(driver_df['termination_date'] < driver_df['hire_date'])]\n",
    "print(rehired_drivers_df[['is_active', 'termination_date', 'hire_date']].loc[rehired_drivers_df['is_active'] == False])"
   ]
  },
  {
   "cell_type": "markdown",
   "id": "ad2631ff",
   "metadata": {},
   "source": [
    "#### Moves File"
   ]
  },
  {
   "cell_type": "code",
   "execution_count": null,
   "id": "539bc86f",
   "metadata": {},
   "outputs": [],
   "source": [
    "moves_df = data['moves']\n",
    "\n",
    "print(moves_df.info(verbose = True))\n",
    "print(\"\\n\")\n",
    "print('MOVE_STATUS - COUNTS')\n",
    "print(moves_df['move_status'].value_counts())\n",
    "print(\"\\n\")\n",
    "print('LOADED - COUNTS')\n",
    "print(moves_df['loaded'].value_counts())\n",
    "print(\"\\n\")\n",
    "print('ORDER_ID - BLANKS')\n",
    "order_id_df = moves_df['order_id'].isnull()\n",
    "print(order_id_df)\n",
    "print(\"\\n\")\n",
    "print('PRORATED_REVENUE - NEGATIVE')\n",
    "prorated_revenue_df = moves_df[(moves_df['prorated_revenue'] < 0)]\n",
    "print(prorated_revenue_df[['prorated_revenue']])\n",
    "print(\"\\n\")\n",
    "print('BROKERAGE - COUNTS')\n",
    "print(moves_df['brokerage'].value_counts())\n",
    "print(\"\\n\")\n",
    "print('MOVE_DISTANCE - OUT OF BOUNDS (<0 OR >4000)')\n",
    "move_distance_df = moves_df[(moves_df['move_distance'] < 0)|(moves_df['move_distance'] > 4000)]\n",
    "print(move_distance_df[['move_distance']])\n"
   ]
  },
  {
   "cell_type": "markdown",
   "id": "75d9dfd5",
   "metadata": {},
   "source": [
    "#### Orders File"
   ]
  },
  {
   "cell_type": "code",
   "execution_count": null,
   "id": "e070d254",
   "metadata": {},
   "outputs": [],
   "source": [
    "orders_df = data['orders']\n",
    "\n",
    "print(orders_df.info(verbose = True))\n",
    "print(\"\\n\")\n",
    "print('STATUS - COUNTS')\n",
    "print(orders_df['status'].value_counts())\n",
    "print(\"\\n\")\n",
    "print('COMMODITY_ID - COUNTS')\n",
    "print(orders_df['commodity_id'].value_counts())\n",
    "print(\"\\n\")\n",
    "print('REVENUE_CODE_ID - COUNTS')\n",
    "print(orders_df['revenue_code_id'].value_counts())\n",
    "print(\"\\n\")\n",
    "print('CUSTOMER_ID - BLANKS')\n",
    "print(orders_df[orders_df['customer_id'].isnull()])\n",
    "print('\\n')\n",
    "print('CUSTOMER_ID - COUNTS TOP 10')\n",
    "print(orders_df['customer_id'].value_counts().head(10))\n",
    "print(\"\\n\")\n",
    "print('ORDERED_DATE - BLANKS')\n",
    "print(orders_df[orders_df['ordered_date'].isnull()])\n",
    "print(\"\\n\")\n",
    "print('BILL_DISTANCE - OUT OF BOUNDS (<0 OR >4000)')\n",
    "print(orders_df[(orders_df['bill_distance'] < 0)|(orders_df['bill_distance'] > 4000)])\n",
    "print(\"\\n\")\n",
    "print('FREIGHT_CHARGE - NEGATIVE')\n",
    "print(orders_df[orders_df['freight_charge'] < 0])\n",
    "print(\"\\n\")\n",
    "print('OTHERCHARGETOTAL - NEGATIVE')\n",
    "print(orders_df[orders_df['otherchargetotal'] < 0])"
   ]
  },
  {
   "cell_type": "markdown",
   "id": "9aecd16c",
   "metadata": {},
   "source": [
    "#### Stops File"
   ]
  },
  {
   "cell_type": "code",
   "execution_count": null,
   "id": "9c9f5f0c",
   "metadata": {},
   "outputs": [],
   "source": [
    "stops_df = data['stops']\n",
    "\n",
    "print(stops_df.info(verbose = True))\n",
    "print(\"\\n\")\n",
    "print('ACTUAL_ARRIVAL - BLANKS')\n",
    "actual_arrival_df = stops_df[stops_df['actual_arrival'].isnull()]\n",
    "print(actual_arrival_df[['actual_arrival']])\n",
    "print(\"\\n\")\n",
    "print('ACTUAL_DEPARTURE - BLANKS')\n",
    "actual_departure_df = stops_df[stops_df['actual_departure'].isnull()]\n",
    "print(actual_departure_df[['actual_departure']])\n",
    "print(\"\\n\")\n",
    "print('STOP_TYPE - COUNTS')\n",
    "print(stops_df['stop_type'].value_counts())\n",
    "print(\"\\n\")\n",
    "print('SCHED_ARRIVE_EARLY - BLANKS')\n",
    "sched_arrive_early_df = stops_df[stops_df['sched_arrive_early'].isnull()]\n",
    "print(sched_arrive_early_df[['sched_arrive_early']])\n",
    "print(\"\\n\")\n",
    "print('SCHED_ARRIVE_LATE - BLANKS')\n",
    "sched_arrive_late_df = stops_df[stops_df['sched_arrive_late'].isnull()]\n",
    "print(sched_arrive_late_df[['sched_arrive_late']])\n",
    "print(\"\\n\")\n",
    "print('ZIP_CODE - BLANKS')\n",
    "zip_code_blank_df = stops_df[stops_df['zip_code'].isnull()]\n",
    "print(zip_code_blank_df[['zip_code']])\n",
    "print(\"\\n\")\n",
    "print('ZIP_CODE - INCORRECT FORMAT - Too Short')\n",
    "zip_code_short_df = stops_df[(stops_df['zip_code'].str.len() < 5)]\n",
    "print(zip_code_short_df[['zip_code']])\n",
    "print(\"\\n\")\n",
    "print('ZIP_CODE - INCORRECT FORMAT - Too Long')\n",
    "zip_code_partition_hyphen_df = stops_df['zip_code'].str.partition('-')\n",
    "zip_code_long_df = zip_code_partition_hyphen_df[(zip_code_partition_hyphen_df[0].str.len() > 5)]\n",
    "zip_code_long_df = zip_code_long_df.rename(columns={0: 'zip_code'})\n",
    "print(zip_code_long_df[['zip_code']])\n",
    "print(\"\\n\")\n",
    "print('ZIP_CODE - INCORRECT FORMAT - Non-numeric Characters')\n",
    "zip_code_no_hyphen_df = stops_df['zip_code'].str.replace('-', '')\n",
    "zip_code_alpha_df = zip_code_no_hyphen_df[zip_code_no_hyphen_df.str.isnumeric() == False]\n",
    "print(zip_code_alpha_df)\n",
    "print(\"\\n\")"
   ]
  },
  {
   "cell_type": "markdown",
   "id": "ac893eeb",
   "metadata": {},
   "source": [
    "#### Tractors File"
   ]
  },
  {
   "cell_type": "code",
   "execution_count": null,
   "id": "1fe7fcb7",
   "metadata": {},
   "outputs": [],
   "source": []
  },
  {
   "cell_type": "markdown",
   "id": "9c8eb53e",
   "metadata": {},
   "source": [
    "#### Trailers File"
   ]
  },
  {
   "cell_type": "code",
   "execution_count": null,
   "id": "b7699171",
   "metadata": {},
   "outputs": [],
   "source": []
  }
 ],
 "metadata": {
  "kernelspec": {
   "display_name": "Python 3 (ipykernel)",
   "language": "python",
   "name": "python3"
  },
  "language_info": {
   "codemirror_mode": {
    "name": "ipython",
    "version": 3
   },
   "file_extension": ".py",
   "mimetype": "text/x-python",
   "name": "python",
   "nbconvert_exporter": "python",
   "pygments_lexer": "ipython3",
   "version": "3.9.7"
  }
 },
 "nbformat": 4,
 "nbformat_minor": 5
}
