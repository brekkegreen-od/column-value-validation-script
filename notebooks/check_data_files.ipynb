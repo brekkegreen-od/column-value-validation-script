{
 "cells": [
  {
   "cell_type": "code",
   "execution_count": null,
   "metadata": {
    "tags": []
   },
   "outputs": [],
   "source": [
    "import os\n",
    "import pandas as pd\n",
    "import numpy as np\n",
    "pd.set_option(\"display.max_columns\", 55)"
   ]
  },
  {
   "cell_type": "markdown",
   "metadata": {},
   "source": [
    "## Read files into Dataframe"
   ]
  },
  {
   "cell_type": "code",
   "execution_count": null,
   "metadata": {
    "tags": []
   },
   "outputs": [],
   "source": [
    "data_path = '../data/jbhunt/csv_files/'\n",
    "\n",
    "files = []\n",
    "driver_data = []\n",
    "load_data = []\n",
    "files_received = []\n",
    "\n",
    "try:\n",
    "    for i in os.listdir(data_path):\n",
    "        if os.path.isfile(os.path.join(data_path,i)):\n",
    "            files.append(i)\n",
    "except FileNotFoundError:\n",
    "    print(\"PLEASE MAKE SURE THE DATA PATH LEADS TO THE DATA DIRECTORY WHERE THE DATA FILES ARE LOCATED\\n\")   \n",
    "except NameError:\n",
    "    print(\"PLEASE INSERT A VALID PATH STRING TO THE DATA DIRECTORY\\n\")\n",
    "\n",
    "if '.DS_Store' in files:\n",
    "    files.remove('.DS_Store')\n",
    "for file in files:\n",
    "    if \"driver\" in file.lower():\n",
    "        driver_data.append(pd.read_csv(data_path + file, low_memory=False))\n",
    "    else:\n",
    "        load_data.append(pd.read_csv(data_path + file, low_memory=False))\n",
    "    \n",
    "load_data_combined_df = pd.concat(load_data, ignore_index=True)\n",
    "driver_data_combined_df = pd.concat(driver_data, ignore_index=True)\n",
    "print(load_data_combined_df.info())\n",
    "display(load_data_combined_df.head())\n",
    "print(driver_data_combined_df.info())\n",
    "display(driver_data_combined_df.head())"
   ]
  },
  {
   "cell_type": "markdown",
   "metadata": {},
   "source": [
    "## Convert .csv to .tsv"
   ]
  },
  {
   "cell_type": "code",
   "execution_count": null,
   "metadata": {},
   "outputs": [],
   "source": [
    "load_data_combined_df.to_csv('../data/jbhunt/tsv_files/loads.tsv', sep='\\t')\n",
    "driver_data_combined_df.to_csv('../data/jbhunt/tsv_files/drivers.tsv', sep='\\t')"
   ]
  },
  {
   "cell_type": "markdown",
   "metadata": {},
   "source": [
    "## Map column names to OD standard column names"
   ]
  },
  {
   "cell_type": "code",
   "execution_count": null,
   "metadata": {
    "tags": []
   },
   "outputs": [],
   "source": [
    "#  Import configuration files for mapping\n",
    "\n",
    "# map_stops_columns = {\n",
    "#     \"ORD_HDRNUMBER\": \"LOAD_ID\",\n",
    "#     \"ORD_BILLTO\": \"SHIPPER_ID\",\n",
    "#     \"ORD_ORIGIN_ZIP\": \"ORIG\",\n",
    "#     \"ORD_DEST_ZIP\": \"DEST\",\n",
    "#     \"ORD_BOOKDATE\": \"ORDER_CALL\",\n",
    "#     \"REV_TOT\": \"TOTAL_REV\",\n",
    "#     \"REV_LHF\": \"LINE_HAUL_REV\",\n",
    "#     \"REV_FSC\": \"FUEL_CHARGE\",\n",
    "#     \"REV_ACC\": \"OTHER_REV\",\n",
    "#     \"LGH_NUMBER\": \"STOP_ID\",\n",
    "#     \"LGH_DRIVER\": \"DRVR_ID\",\n",
    "#     \"LGH_TRACTOR\": \"STOP_TRACTOR\",\n",
    "#     \"STP_MFH_SEQUENCE\": \"STOP_SEQ\",\n",
    "#     \"STP_TYPE\": \"STOP_TYPE\",\n",
    "#     \"STP_EVENT\": \"STOP_EVENT\",\n",
    "#     \"STP_EVENT_DESC\": \"STOP_EVENT_DESC\",\n",
    "#     \"STP_LOADSTATUS_GROUP\": \"STOP_LOADED\",\n",
    "#     \"STP_ZIPCODE\": \"STOP_ZIP\",\n",
    "#     \"STP_SCHDTEARLIEST\": \"STOP_APPT_ST\",\n",
    "#     \"STP_SCHDTLATEST\": \"STOP_APPT_END\",\n",
    "#     \"STP_ARRIVALDATE\": \"STOP_ACTUAL_ARRIVAL\",\n",
    "#     \"STP_DEPARTUREDATE\": \"STOP_ACTUAL_DEPARTURE\",\n",
    "#     \"STP_LGH_MILEAGE\": \"STOP_MILEAGE\",\n",
    "#     \"PC_NO\": \"PROFIT_CENTER_NUMBER\",\n",
    "#     \"PC_NAME\": \"PROFIT_CENTER_NAME\",\n",
    "#     \"PC_LVL1\": \"PROFIT_CENTER_LEVEL1\"\n",
    "# }\n",
    "\n",
    "mapped_stops_df = load_data_combined_df.copy(deep=True)\n",
    "mapped_stops_df = mapped_stops_df.rename(columns=map_stops_columns)\n",
    "# template_orders_file = pd.read_table(\"../data/sandbox/orders_2022_04_05_17_35_45.txt\", low_memory=False)\n",
    "display(mapped_stops_df.info())\n",
    "# display(template_orders_file.info())"
   ]
  }
 ],
 "metadata": {
  "kernelspec": {
   "display_name": "Python 3 (ipykernel)",
   "language": "python",
   "name": "python3"
  },
  "language_info": {
   "codemirror_mode": {
    "name": "ipython",
    "version": 3
   },
   "file_extension": ".py",
   "mimetype": "text/x-python",
   "name": "python",
   "nbconvert_exporter": "python",
   "pygments_lexer": "ipython3",
   "version": "3.9.10"
  }
 },
 "nbformat": 4,
 "nbformat_minor": 4
}
